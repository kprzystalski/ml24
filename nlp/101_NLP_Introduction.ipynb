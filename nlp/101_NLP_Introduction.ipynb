{
 "cells": [
  {
   "cell_type": "markdown",
   "metadata": {},
   "source": [
    "# Introduction to Natural Language Processing \n",
    "\n",
    "Natural Language Processing can be divided into two more specific subsets as shown in the figure below. During this part of the course we explain how to deal with most topics related to NLP. \n",
    "\n",
    "In the first part, we explain some basic methods to handle strings and documents like:\n",
    "- using regular expression for string processing,\n",
    "- use NLTK to generate tokens from documents,\n",
    "- tagging text with NLTK,\n",
    "- use unicode and normalize strings,\n",
    "- explain what lemmatization and stemming is,\n",
    "- analyze text with noun chunks and named entity recognition.\n",
    "The second part is dedicated to text understanding. We use machine learning methods and explain such topics like:\n",
    "- Bag of Words,\n",
    "- Tf-idf,\n",
    "- word2vec,\n",
    "- intent recognition.\n",
    "The third part consist of methods used for text generation like\n",
    "- n-gram model,\n",
    "- seq2seq model.\n",
    "Last part is about quality metrics used in NLP methods. "
   ]
  },
  {
   "cell_type": "markdown",
   "metadata": {},
   "source": [
    "## NLP process\n",
    "\n",
    "Based on **[1]**, we have a process that is known to solve most of the NLP problems.\n",
    "\n",
    "1. Gather your data\n",
    "2. Clean yout data\n",
    "3. Find a good representation\n",
    "4. Classification\n",
    "5. Inspection\n",
    "6. Accounting for vocabulary structure\n",
    "7. Leveraging semantics\n",
    "8. Leveraging syntax using end-to-end approaches\n",
    "\n",
    "In this notebook we focus mostly on the second and third part of the process."
   ]
  },
  {
   "cell_type": "markdown",
   "metadata": {},
   "source": [
    "## Tools\n",
    "\n",
    "There are plenty of tools that can be used for NLP. A few most popular are:\n",
    "- Regular expression,\n",
    "- NLTK [www.nltk.org](NLTK),\n",
    "- TextBlob [http://textblob.readthedocs.io/en/dev/](TextBlob),\n",
    "- SpaCy [spacy.io](SpaCy),\n",
    "- coreNLP [https://stanfordnlp.github.io/CoreNLP/](coreNLP)."
   ]
  },
  {
   "cell_type": "markdown",
   "metadata": {},
   "source": [
    "### References\n",
    "\n",
    "**[1]** Natural Language Processing with Python, Edward Loper, Ewan Klein, Steven Bird. O'Reilly 2009"
   ]
  }
 ],
 "metadata": {
  "kernelspec": {
   "display_name": "Python 3",
   "language": "python",
   "name": "python3"
  },
  "language_info": {
   "codemirror_mode": {
    "name": "ipython",
    "version": 3
   },
   "file_extension": ".py",
   "mimetype": "text/x-python",
   "name": "python",
   "nbconvert_exporter": "python",
   "pygments_lexer": "ipython3",
   "version": "3.6.9"
  }
 },
 "nbformat": 4,
 "nbformat_minor": 4
}

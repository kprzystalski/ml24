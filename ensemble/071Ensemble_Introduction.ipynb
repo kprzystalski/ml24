{
 "cells": [
  {
   "cell_type": "markdown",
   "metadata": {},
   "source": [
    "# Introduction to ensemble methods\n",
    "\n",
    "In this section we learn more about different ways of combined classifier. We cover such methods like:\n",
    "- boosting,\n",
    "- bagging,\n",
    "- stacking.\n",
    "\n",
    "Other methods like xgboost are given only as examples of how to use it."
   ]
  },
  {
   "cell_type": "markdown",
   "metadata": {},
   "source": [
    "## Data set\n",
    "\n",
    "We use in this section the classic IRIS data set. It can be loaded using the scikit-learn package."
   ]
  },
  {
   "cell_type": "code",
   "execution_count": 1,
   "metadata": {},
   "outputs": [
    {
     "name": "stdout",
     "output_type": "stream",
     "text": [
      "Stored 'data_set' (ndarray)\n",
      "Stored 'labels' (ndarray)\n",
      "Stored 'test_data_set' (ndarray)\n",
      "Stored 'test_labels' (ndarray)\n",
      "Stored 'unique_labels' (ndarray)\n"
     ]
    }
   ],
   "source": [
    "from sklearn.datasets import load_iris\n",
    "import numpy as np\n",
    "\n",
    "iris = load_iris()\n",
    "\n",
    "data_set = iris.data[0:len(iris.target)-20,:]\n",
    "labels = iris.target[0:len(iris.target)-20]\n",
    "unique_labels = np.unique(iris.target)\n",
    "\n",
    "test_data_set = iris.data[-20:,:]\n",
    "test_labels = iris.target[-20:]\n",
    "\n",
    "%store data_set\n",
    "%store labels\n",
    "%store test_data_set\n",
    "%store test_labels\n",
    "%store unique_labels"
   ]
  },
  {
   "cell_type": "code",
   "execution_count": null,
   "metadata": {},
   "outputs": [],
   "source": []
  }
 ],
 "metadata": {
  "kernelspec": {
   "display_name": "Python 3",
   "language": "python",
   "name": "python3"
  },
  "language_info": {
   "codemirror_mode": {
    "name": "ipython",
    "version": 3
   },
   "file_extension": ".py",
   "mimetype": "text/x-python",
   "name": "python",
   "nbconvert_exporter": "python",
   "pygments_lexer": "ipython3",
   "version": "3.6.9"
  }
 },
 "nbformat": 4,
 "nbformat_minor": 4
}

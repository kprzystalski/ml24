{
 "cells": [
  {
   "cell_type": "markdown",
   "metadata": {},
   "source": [
    "# Univariate methods\n",
    "\n",
    "Univariate methods take only one feature into consideration when splitting the node into leafs. In this section we cover two univariate methods:\n",
    "- CART,\n",
    "- C4.5.\n",
    "\n",
    "There are more univariate methods, but show only two examples that use different split methods. In this notebook we show two methods with a different approach to splitting. The first one build a binary tree and the second generates a non-binary tree."
   ]
  },
  {
   "cell_type": "code",
   "execution_count": 27,
   "metadata": {},
   "outputs": [],
   "source": [
    "import math\n",
    "import numpy as np\n",
    "import pydot\n",
    "import copy\n",
    "from math import log"
   ]
  },
  {
   "cell_type": "markdown",
   "metadata": {},
   "source": [
    "We should restore the ``data_set`` and ``labels`` from the previous notebook."
   ]
  },
  {
   "cell_type": "code",
   "execution_count": 28,
   "metadata": {},
   "outputs": [],
   "source": [
    "%store -r data_set\n",
    "%store -r labels"
   ]
  },
  {
   "cell_type": "markdown",
   "metadata": {},
   "source": [
    "## CART\n",
    "\n",
    "CART stands for Classification and Regression Trees. It generates a binary tree and consist of three steps:\n",
    "1. Calculate the gini index for each feature\n",
    "2. Take the lowest value ofωand split the node into two child nodes\n",
    "3. Repeat the steps until we have all child nodes\n",
    "\n",
    "Before we come to the method itself, we should define the leaf."
   ]
  },
  {
   "cell_type": "code",
   "execution_count": 29,
   "metadata": {},
   "outputs": [],
   "source": [
    "class BinaryLeaf:\n",
    "\n",
    "    def __init__(self, elements, labels, ids):\n",
    "        self.L = None\n",
    "        self.R = None\n",
    "        self.elements = elements\n",
    "        self.split_feature = None\n",
    "        self.labels = labels\n",
    "        self.completed = False\n",
    "        self.ids = ids\n",
    "\n",
    "    def set_R(self, Rleaf):\n",
    "        self.R = Rleaf\n",
    "\n",
    "    def set_L(self, Lleaf):\n",
    "        self.L = Lleaf\n",
    "\n",
    "    def set_elements(self, elements):\n",
    "        self.elements = elements\n",
    "\n",
    "    def get_elements(self):\n",
    "        return self.elements\n",
    "\n",
    "    def set_p(self, threshold):\n",
    "        self.p = threshold\n",
    "\n",
    "    def get_L(self):\n",
    "        return self.L\n",
    "\n",
    "    def get_R(self):\n",
    "        return self.R\n",
    "\n",
    "    def set_completed(self):\n",
    "        self.completed = True\n",
    "\n",
    "    def is_completed(self):\n",
    "        return self.completed\n",
    "\n",
    "    def get_labels(self):\n",
    "        return self.labels\n",
    "\n",
    "    def set_split(self, feature):\n",
    "        self.split_feature = feature\n",
    "\n",
    "    def get_split(self):\n",
    "        return self.split_feature\n",
    "\n",
    "    def set_ids(self, ids):\n",
    "        self.ids = ids\n",
    "\n",
    "    def get_ids(self):\n",
    "        return self.ids"
   ]
  },
  {
   "cell_type": "markdown",
   "metadata": {},
   "source": [
    "The variables that we gonna use is the ``labels_count``, in other words the number of classes. We need ``ids`` to track the split. "
   ]
  },
  {
   "cell_type": "code",
   "execution_count": 30,
   "metadata": {},
   "outputs": [],
   "source": [
    "labels_count = len(np.unique(labels))\n",
    "\n",
    "ids = list(range(len(data_set)))\n",
    "root = BinaryLeaf(data_set, labels, ids)\n",
    "current_node = root"
   ]
  },
  {
   "cell_type": "markdown",
   "metadata": {},
   "source": [
    "There are several helper functions that are next used by our CART method. We use the methods to:\n",
    "- ``get_unique_labels`` - return the unique labels in a leaf,\n",
    "- ``get_unique_values`` - return unique values in a leaf,\n",
    "- ``is_leaf_completed`` - check if a leaf needs to be split or not,\n",
    "- ``find_leaf_not_completed`` - returns the leaf that needs to be split."
   ]
  },
  {
   "cell_type": "code",
   "execution_count": 31,
   "metadata": {},
   "outputs": [],
   "source": [
    "def get_unique_labels(labels):\n",
    "    return np.unique(np.array(labels)).tolist()\n",
    "\n",
    "def get_unique_values(elements):\n",
    "    features_number = len(elements[0])\n",
    "    unique = []\n",
    "    for i in range(features_number):\n",
    "        features_list = []\n",
    "        for j in range(len(elements)):\n",
    "            features_list.append(elements[j][i])\n",
    "        unique.append(np.unique(np.array(features_list)))\n",
    "    return unique\n",
    "\n",
    "def is_leaf_completed(node):\n",
    "    if node.is_completed():\n",
    "        if node.get_L() != None and not node.get_L().is_completed():\n",
    "            return node.get_L()\n",
    "        elif node.get_R() != None and not node.get_R().is_completed():\n",
    "            return node.get_R()\n",
    "        elif node.get_L() == None and node.get_R() == None:\n",
    "            return None\n",
    "        elif node.get_L().is_completed() or node.get_R().is_completed():\n",
    "            new_node = is_leaf_completed(node.get_L())\n",
    "            if new_node == None:\n",
    "                return is_leaf_completed(node.get_R())\n",
    "            else:\n",
    "                return new_node\n",
    "        else:\n",
    "            return None\n",
    "    return node\n",
    "\n",
    "def find_leaf_not_completed(root):\n",
    "    return is_leaf_completed(root)"
   ]
  },
  {
   "cell_type": "markdown",
   "metadata": {},
   "source": [
    "The split method below return possible split leafs."
   ]
  },
  {
   "cell_type": "code",
   "execution_count": 32,
   "metadata": {},
   "outputs": [],
   "source": [
    "def get_split_candidates(unique_values):\n",
    "    split_list = []\n",
    "    for i in range(len(unique_values)):\n",
    "        current_list = []\n",
    "        temp_list = copy.deepcopy(unique_values)\n",
    "        current_list.append(temp_list[i])\n",
    "        del temp_list[i]\n",
    "        current_list.append(temp_list)\n",
    "        split_list.append(current_list)\n",
    "    return split_list"
   ]
  },
  {
   "cell_type": "markdown",
   "metadata": {},
   "source": [
    "The methods below return the ``get_number_of_labels_for_value`` return exactly what the name says."
   ]
  },
  {
   "cell_type": "code",
   "execution_count": 33,
   "metadata": {},
   "outputs": [],
   "source": [
    "def get_number_of_labels_for_value(elements, column_id, label):\n",
    "    count = 0\n",
    "    if not isinstance(elements, list):\n",
    "        elements_list = [elements]\n",
    "    else:\n",
    "        elements_list = elements\n",
    "\n",
    "    column_elements = get_node_elements_column(column_id)\n",
    "\n",
    "    for i in range(len(elements_list)):\n",
    "        for j in range(len(column_elements)):\n",
    "            if column_elements[j] == elements_list[i]:\n",
    "                if current_node.labels[j] == label:\n",
    "                    count = count + 1\n",
    "    return count"
   ]
  },
  {
   "cell_type": "markdown",
   "metadata": {},
   "source": [
    "Get values for feature ``column_id``."
   ]
  },
  {
   "cell_type": "code",
   "execution_count": 34,
   "metadata": {},
   "outputs": [],
   "source": [
    "def get_node_elements_column(column_id):\n",
    "    return np.array(current_node.elements)[..., column_id].tolist()\n",
    "\n",
    "def count_number_of_elements(elements, column_id):\n",
    "    count = 0\n",
    "    if isinstance(elements, list):\n",
    "        column_elements = get_node_elements_column(column_id)\n",
    "        for i in range(len(elements)):\n",
    "            count = count + column_elements.count(elements[i])\n",
    "    else:\n",
    "        count = count + get_node_elements_column(column_id).count(elements)\n",
    "    return count"
   ]
  },
  {
   "cell_type": "markdown",
   "metadata": {},
   "source": [
    "Calculate the $\\phi $ for given feature."
   ]
  },
  {
   "cell_type": "code",
   "execution_count": 35,
   "metadata": {},
   "outputs": [],
   "source": [
    "def calculate_omega(elements, column_id):\n",
    "    t_l = count_number_of_elements(elements[0], column_id)\n",
    "    t_r = count_number_of_elements(elements[1], column_id)\n",
    "    p_l = t_l * 1.0 / len(current_node.elements) * 1.0\n",
    "    p_r = t_r * 1.0 / len(current_node.elements) * 1.0\n",
    "\n",
    "    sum_p = 0\n",
    "    labels = get_unique_labels(current_node.labels)\n",
    "    for i in range(labels_count):\n",
    "        p_class_t_l = (get_number_of_labels_for_value(elements[0], column_id, labels[i]) * 1.0) / (\n",
    "                count_number_of_elements(elements[0], column_id) * 1.0)\n",
    "        p_class_t_r = (get_number_of_labels_for_value(elements[1], column_id, labels[i]) * 1.0) / (\n",
    "                count_number_of_elements(elements[1], column_id) * 1.0)\n",
    "        sum_p = sum_p + math.fabs(p_class_t_l - p_class_t_r)\n",
    "    return 2.0 * p_l * p_r * sum_p"
   ]
  },
  {
   "cell_type": "markdown",
   "metadata": {},
   "source": [
    "Method that checks if the new leaf does not need to be split again."
   ]
  },
  {
   "cell_type": "code",
   "execution_count": 36,
   "metadata": {},
   "outputs": [],
   "source": [
    "def check_completed(labels, elements):\n",
    "    ratio = len(get_unique_labels(labels))\n",
    "    if ratio == 1:\n",
    "        return True\n",
    "    elements = sorted(elements)\n",
    "    duplicated = [elements[i] for i in range(len(elements)) if i == 0 or elements[i] != elements[i - 1]]\n",
    "    if len(duplicated) == 1:\n",
    "        return True\n",
    "    return False"
   ]
  },
  {
   "cell_type": "markdown",
   "metadata": {},
   "source": [
    "Split method:"
   ]
  },
  {
   "cell_type": "code",
   "execution_count": 37,
   "metadata": {},
   "outputs": [],
   "source": [
    "def split_node(current_node, value, split_id, split_history):\n",
    "    left_leaf = []\n",
    "    left_leaf_labels = []\n",
    "    left_leaf_ids = []\n",
    "    right_leaf = []\n",
    "    right_leaf_labels = []\n",
    "    right_leaf_ids = []\n",
    "    for i in range(len(current_node.elements)):\n",
    "        if current_node.elements[i][split_id] == value:\n",
    "            left_leaf.append(current_node.elements[i])\n",
    "            left_leaf_labels.append(current_node.labels[i])\n",
    "            left_leaf_ids.append(current_node.ids[i])\n",
    "        else:\n",
    "            right_leaf.append(current_node.elements[i])\n",
    "            right_leaf_labels.append(current_node.labels[i])\n",
    "            right_leaf_ids.append(current_node.ids[i])\n",
    "    if len(right_leaf_labels) == 0 or len(left_leaf_labels) == 0:\n",
    "        current_node.set_completed()\n",
    "        return current_node, split_history\n",
    "    split_history.append([str(current_node.ids), str(left_leaf_ids)])\n",
    "    split_history.append([str(current_node.ids), str(right_leaf_ids)])\n",
    "    current_node.set_L(BinaryLeaf(left_leaf, left_leaf_labels, left_leaf_ids))\n",
    "    current_node.set_R(BinaryLeaf(right_leaf, right_leaf_labels, right_leaf_ids))\n",
    "    current_node.set_split(split_id)\n",
    "    current_node.set_completed()\n",
    "    if check_completed(left_leaf_labels, left_leaf):\n",
    "        current_node.L.set_completed()\n",
    "    if check_completed(right_leaf_labels, right_leaf):\n",
    "        current_node.R.set_completed()\n",
    "    return current_node, split_history"
   ]
  },
  {
   "cell_type": "markdown",
   "metadata": {},
   "source": [
    "Get the current node that needs to be split:"
   ]
  },
  {
   "cell_type": "code",
   "execution_count": 38,
   "metadata": {},
   "outputs": [],
   "source": [
    "def get_current_node():\n",
    "    return find_leaf_not_completed()"
   ]
  },
  {
   "cell_type": "markdown",
   "metadata": {},
   "source": [
    "Tree building method:"
   ]
  },
  {
   "cell_type": "code",
   "execution_count": 39,
   "metadata": {},
   "outputs": [],
   "source": [
    "def build(root_node):\n",
    "    current_node = root_node\n",
    "    stop_criterion = False\n",
    "    split_history = []\n",
    "    while stop_criterion == False:\n",
    "        unique_values = get_unique_values(current_node.get_elements())\n",
    "        max_unique_id = 0\n",
    "        max_split_id = 0\n",
    "        max_value = 0\n",
    "        for i in range(len(unique_values)):\n",
    "            if len(unique_values[i]) == 1:\n",
    "                continue\n",
    "            split_candidates = get_split_candidates(unique_values[i].tolist())\n",
    "            for j in range(len(split_candidates)):\n",
    "                current_value = calculate_omega(split_candidates[j], i)\n",
    "                if max_value < current_value:\n",
    "                    max_unique_id = i\n",
    "                    max_split_id = j\n",
    "                    max_value = current_value\n",
    "        current_node, split_history = split_node(current_node, unique_values[max_unique_id][max_split_id], max_unique_id, split_history)\n",
    "        new_node = find_leaf_not_completed(root_node)\n",
    "        if new_node != None:\n",
    "            current_node = new_node\n",
    "        else:\n",
    "            stop_criterion = True\n",
    "    return root_node, split_history"
   ]
  },
  {
   "cell_type": "markdown",
   "metadata": {},
   "source": [
    "Execution of the ``build`` method returns the tree and the split history. The second variable can be used to plot the tree."
   ]
  },
  {
   "cell_type": "code",
   "execution_count": 40,
   "metadata": {},
   "outputs": [],
   "source": [
    "cart_tree, split_history_cart = build(current_node)"
   ]
  },
  {
   "cell_type": "markdown",
   "metadata": {},
   "source": [
    "We can store the history to use it in other notebooks:"
   ]
  },
  {
   "cell_type": "code",
   "execution_count": 53,
   "metadata": {},
   "outputs": [
    {
     "name": "stdout",
     "output_type": "stream",
     "text": [
      "Stored 'split_history_cart' (list)\n"
     ]
    }
   ],
   "source": [
    "%store split_history_cart"
   ]
  },
  {
   "cell_type": "markdown",
   "metadata": {},
   "source": [
    "The plot function is very simple:"
   ]
  },
  {
   "cell_type": "code",
   "execution_count": 42,
   "metadata": {},
   "outputs": [],
   "source": [
    "def plot_tree(split_history):\n",
    "    tree = pydot.Dot(graph_type='graph')\n",
    "    for split in split_history:\n",
    "        new_edge = pydot.Edge(split[0], split[1])\n",
    "        tree.add_edge(new_edge)\n",
    "    tree.write('cart_tree.png', format='png')\n",
    "    \n",
    "plot_tree(split_history_cart)"
   ]
  },
  {
   "cell_type": "markdown",
   "metadata": {},
   "source": [
    "We can display it:"
   ]
  },
  {
   "cell_type": "code",
   "execution_count": 43,
   "metadata": {},
   "outputs": [
    {
     "data": {
      "image/png": "[encoded data removed]",
      "text/plain": [
       "<IPython.core.display.Image object>"
      ]
     },
     "execution_count": 43,
     "metadata": {},
     "output_type": "execute_result"
    }
   ],
   "source": [
    "from IPython.display import Image\n",
    "Image(filename='cart_tree.png') "
   ]
  },
  {
   "cell_type": "markdown",
   "metadata": {},
   "source": [
    "## C4.5\n",
    "\n",
    "In C4.5 method we generate a non-binary tree. As in the previous example, we should define the Leaf."
   ]
  },
  {
   "cell_type": "code",
   "execution_count": 44,
   "metadata": {},
   "outputs": [],
   "source": [
    "class Leaf:\n",
    "\n",
    "    def __init__(self, elements, labels, ids):\n",
    "        self.child_leafs = []\n",
    "        self.elements = elements\n",
    "        self.labels = labels\n",
    "        self.completed = False\n",
    "        self.ids = ids\n",
    "\n",
    "    def get_elements(self):\n",
    "        return self.elements\n",
    "\n",
    "    def set_child_leafs(self, new_leafs):\n",
    "        self.child_leafs = new_leafs\n",
    "\n",
    "    def set_completed(self):\n",
    "        self.completed = True\n",
    "\n",
    "    def is_completed(self):\n",
    "        return self.completed\n",
    "\n",
    "    def get_labels(self):\n",
    "        return self.labels\n",
    "\n",
    "    def get_child_leafs(self):\n",
    "        return self.child_leafs\n",
    "\n",
    "    def get_ids(self):\n",
    "        return self.ids"
   ]
  },
  {
   "cell_type": "markdown",
   "metadata": {},
   "source": [
    "We need ``ids`` to track the split and set the root of the tree."
   ]
  },
  {
   "cell_type": "code",
   "execution_count": 45,
   "metadata": {},
   "outputs": [],
   "source": [
    "ids = list(range(len(data_set)))\n",
    "root = Leaf(data_set, labels, ids)\n",
    "current_node = root"
   ]
  },
  {
   "cell_type": "markdown",
   "metadata": {},
   "source": [
    "There are several helper functions that are next used by our CART method. We use the methods to:\n",
    "- ``get_unique_labels`` - return the unique labels in a leaf,\n",
    "- ``get_unique_values`` - return unique values in a leaf,\n",
    "- ``is_leaf_completed`` - check if a leaf needs to be split or not,\n",
    "- ``find_leaf_not_completed`` - returns the leaf that needs to be split,\n",
    "- ``get_current_node`` - return the leaf that we should currently work on (split)."
   ]
  },
  {
   "cell_type": "code",
   "execution_count": 46,
   "metadata": {},
   "outputs": [],
   "source": [
    "def get_unique_labels(labels):\n",
    "    return np.unique(np.array(labels)).tolist()\n",
    "\n",
    "def get_unique_values(elements):\n",
    "    features_number = len(elements[0])\n",
    "    unique = []\n",
    "    for i in range(features_number):\n",
    "        features_list = []\n",
    "        for j in range(len(elements)):\n",
    "            features_list.append(elements[j][i])\n",
    "        unique.append(np.unique(np.array(features_list)))\n",
    "    return unique\n",
    "\n",
    "def is_leaf_completed(node):\n",
    "    if node.is_completed():\n",
    "        child_nodes = node.get_child_leafs()\n",
    "        if len(child_nodes) == 0:\n",
    "            return None\n",
    "        is_child_to_return = False\n",
    "        for i in range(len(child_nodes)):\n",
    "            if not child_nodes[i].is_completed():\n",
    "                return child_nodes[i]\n",
    "            else:\n",
    "                new_node = is_leaf_completed(child_nodes[i])\n",
    "                if new_node != None:\n",
    "                    is_child_to_return=True\n",
    "        if is_child_to_return:\n",
    "            return new_node\n",
    "    return node\n",
    "\n",
    "def find_leaf_not_completed(root_node):\n",
    "    return is_leaf_completed(root_node)\n",
    "\n",
    "def get_current_node(root):\n",
    "    return find_leaf_not_completed(root)"
   ]
  },
  {
   "cell_type": "markdown",
   "metadata": {},
   "source": [
    "We can calcualte the entropy: \n",
    "\\begin{equation}\n",
    "E(X)=-\\sum_{i=1}^{m}p_{i}\\log_{2}p_{i}.\n",
    "\\end{equation}"
   ]
  },
  {
   "cell_type": "code",
   "execution_count": 47,
   "metadata": {},
   "outputs": [],
   "source": [
    "def calculate_entropy(labels):\n",
    "    unique_labels, labels_count = np.unique(labels, return_counts=True)\n",
    "    entropy = 0\n",
    "    size = len(labels)\n",
    "    for i in range(len(unique_labels)):\n",
    "        if labels_count[i] > 0:\n",
    "            log2 = log((labels_count[i] * 1.0) / (size * 1.0), 2)\n",
    "        else:\n",
    "            log2 = 0.0\n",
    "        entropy = entropy - 1.0 * ((labels_count[i] * 1.0) / size) * log2\n",
    "    return entropy"
   ]
  },
  {
   "cell_type": "markdown",
   "metadata": {},
   "source": [
    "The method below finds the candiate to split using the entropy."
   ]
  },
  {
   "cell_type": "code",
   "execution_count": 48,
   "metadata": {},
   "outputs": [],
   "source": [
    "def calculate_split_candidate_entropy(full_entropy, labels, elements, unique_labels, unique_elements, iter):\n",
    "    split_entropy = 0\n",
    "    for i in range(len(unique_elements)):\n",
    "        indices = np.where(np.array(elements)[..., iter].tolist() == unique_elements[i])\n",
    "        unique_size = len(indices[0].tolist())\n",
    "        filtered_labels = np.array(labels)[indices]\n",
    "        for j in range(len(unique_labels)):\n",
    "            labels_count = filtered_labels.tolist().count(unique_labels[j])\n",
    "            if labels_count > 0:\n",
    "                log2 = log((labels_count * 1.0) / (unique_size * 1.0), 2)\n",
    "            else:\n",
    "                log2 = 0.0\n",
    "            split_entropy = split_entropy - 1.0 * (\n",
    "                    (labels_count * 1.0) / unique_size * 1.0) * log2 * unique_size * 1.0 / len(elements) * 1.0\n",
    "    return (full_entropy - split_entropy)\n"
   ]
  },
  {
   "cell_type": "markdown",
   "metadata": {},
   "source": [
    "Split the leaf:"
   ]
  },
  {
   "cell_type": "code",
   "execution_count": 49,
   "metadata": {},
   "outputs": [],
   "source": [
    "def split(current_node, split_values, column_id, split_history):\n",
    "    new_leafs = []\n",
    "    for i in range(len(split_values)):\n",
    "        indices = np.where(np.array(current_node.get_elements())[..., column_id].tolist() == split_values[i])\n",
    "        new_leaf_elements = np.array(current_node.get_elements())[indices].tolist()\n",
    "        new_leaf_labels   = np.array(current_node.get_labels())[indices].tolist()\n",
    "        new_leaf_ids = np.array(current_node.get_ids())[indices].tolist()\n",
    "        new_leaf = Leaf(new_leaf_elements,new_leaf_labels, new_leaf_ids)\n",
    "        split_history.append([str(current_node.ids), str(new_leaf_ids)])\n",
    "        if len(np.unique(new_leaf_labels)) == 1:\n",
    "            new_leaf.set_completed()\n",
    "        new_leafs.append(new_leaf)\n",
    "    current_node.set_child_leafs(new_leafs)\n",
    "    current_node.set_completed()\n",
    "    return current_node, split_history"
   ]
  },
  {
   "cell_type": "markdown",
   "metadata": {},
   "source": [
    "Finally, we can build the tree as below:"
   ]
  },
  {
   "cell_type": "code",
   "execution_count": 50,
   "metadata": {},
   "outputs": [],
   "source": [
    "def build(root):\n",
    "    stop_criterion = False\n",
    "    split_history = []\n",
    "    current_node = root\n",
    "    unique_labels = get_unique_labels(root.get_labels())\n",
    "    while stop_criterion == False:\n",
    "        unique_values = get_unique_values(current_node.get_elements())\n",
    "        full_entropy = calculate_entropy(current_node.get_labels())\n",
    "        max_entropy_id = 0\n",
    "        max_entropy_value = 0\n",
    "        for i in range(len(unique_values)):\n",
    "            split_entropy = calculate_split_candidate_entropy(full_entropy,\n",
    "                                                                      current_node.get_labels(),\n",
    "                                                                      current_node.get_elements(),\n",
    "                                                                      unique_labels,\n",
    "                                                                      unique_values[i], i)\n",
    "            if split_entropy > max_entropy_value:\n",
    "                max_entropy_id = i\n",
    "                max_entropy_value = split_entropy\n",
    "        current_node, split_history = split(current_node, unique_values[max_entropy_id], max_entropy_id, split_history)\n",
    "        new_node = get_current_node(root)\n",
    "        if new_node != None:\n",
    "            current_node = new_node\n",
    "        else:\n",
    "            stop_criterion = True\n",
    "    return root, split_history"
   ]
  },
  {
   "cell_type": "markdown",
   "metadata": {},
   "source": [
    "The building methods returns the same variables as in the previous example:"
   ]
  },
  {
   "cell_type": "code",
   "execution_count": 51,
   "metadata": {},
   "outputs": [],
   "source": [
    "c45_tree, split_history_c45 = build(root)"
   ]
  },
  {
   "cell_type": "markdown",
   "metadata": {},
   "source": [
    "It is worth to save the history."
   ]
  },
  {
   "cell_type": "code",
   "execution_count": 52,
   "metadata": {},
   "outputs": [
    {
     "name": "stdout",
     "output_type": "stream",
     "text": [
      "Stored 'split_history_c45' (list)\n"
     ]
    }
   ],
   "source": [
    "%store split_history_c45"
   ]
  }
 ],
 "metadata": {
  "kernelspec": {
   "display_name": "Python 3",
   "language": "python",
   "name": "python3"
  },
  "language_info": {
   "codemirror_mode": {
    "name": "ipython",
    "version": 3
   },
   "file_extension": ".py",
   "mimetype": "text/x-python",
   "name": "python",
   "nbconvert_exporter": "python",
   "pygments_lexer": "ipython3",
   "version": "3.6.9"
  }
 },
 "nbformat": 4,
 "nbformat_minor": 4
}
